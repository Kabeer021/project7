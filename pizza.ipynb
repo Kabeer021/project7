{
 "cells": [
  {
   "cell_type": "code",
   "execution_count": 117,
   "id": "16a90f90",
   "metadata": {},
   "outputs": [],
   "source": [
    "import pandas as pd\n",
    "import numpy as np"
   ]
  },
  {
   "cell_type": "code",
   "execution_count": 66,
   "id": "2718ffcc",
   "metadata": {},
   "outputs": [],
   "source": [
    "df = pd.read_csv('D:\\\\data.csv')"
   ]
  },
  {
   "cell_type": "code",
   "execution_count": 67,
   "id": "30f73861",
   "metadata": {},
   "outputs": [
    {
     "data": {
      "text/plain": [
       "<bound method NDFrame.head of     day_count_0_25  day_count_0_5  day_count_0_75  day_count_1_0  \\\n",
       "0              682           2464            4089           7273   \n",
       "1              754           2155            4225           6657   \n",
       "2             1945           4185            7516          17092   \n",
       "3              977           1400            1879           2260   \n",
       "4               33             47              68             82   \n",
       "..             ...            ...             ...            ...   \n",
       "70             200           1149            2023           3027   \n",
       "71             410           2488            4303           6711   \n",
       "72              75            213             259            305   \n",
       "73            2521           9010           13679          21983   \n",
       "74            1005           1860            2656           3506   \n",
       "\n",
       "    day_count_2_0  day_count_3_0  day_count_4_0  pop_count_0_25  \\\n",
       "0           26611          42798          59421             682   \n",
       "1           25903          56247         109079             798   \n",
       "2           78080         148992         267023            2089   \n",
       "3            5756          18850          39565             490   \n",
       "4             414            883           1633              25   \n",
       "..            ...            ...            ...             ...   \n",
       "70           9300          15683          25853             193   \n",
       "71          31467          69899         131833             336   \n",
       "72           1037           2656           4751              56   \n",
       "73          63807         133657         194202            2649   \n",
       "74          27794          81403         177378             633   \n",
       "\n",
       "    pop_count_0_5  pop_count_0_75  ...  restaurant_0_75  restaurant_1_0  \\\n",
       "0            2507            4093  ...                0               1   \n",
       "1            2225            4436  ...                2               2   \n",
       "2            4479            8152  ...                3               3   \n",
       "3             805            1315  ...                2               2   \n",
       "4              40              64  ...                3               3   \n",
       "..            ...             ...  ...              ...             ...   \n",
       "70           1074            1923  ...                0               0   \n",
       "71           2287            4076  ...                0               1   \n",
       "72            192             232  ...                0               0   \n",
       "73          10296           15131  ...                0               1   \n",
       "74           1250            1827  ...                5               5   \n",
       "\n",
       "    restaurant_2_0  restaurant_3_0  restaurant_4_0      size  concept_type  \\\n",
       "0                3              13              14  129.5000          ILDT   \n",
       "1                2               5              11  113.4000          ILDT   \n",
       "2                4              11              24   71.2236            FC   \n",
       "3                2               3               5   47.3280            FC   \n",
       "4                3               3               3  107.1600          ILDT   \n",
       "..             ...             ...             ...       ...           ...   \n",
       "70               0               0               3  623.9233          FSDT   \n",
       "71               5               8              16   46.9040            FC   \n",
       "72               0               0               1   98.4000            FC   \n",
       "73               7              11              21  153.0000          ILDT   \n",
       "74               6               6              11   45.1000            FC   \n",
       "\n",
       "      city            region       target  \n",
       "0    other  eastern_province  3683833.046  \n",
       "1   jeddah     makkah_region  3500566.183  \n",
       "2   riyadh     riyadh_region  1680120.334  \n",
       "3   jeddah     makkah_region  3671408.579  \n",
       "4    other  eastern_province  1720838.617  \n",
       "..     ...               ...          ...  \n",
       "70  jeddah     makkah_region  8665245.647  \n",
       "71  riyadh     riyadh_region  1749022.339  \n",
       "72   other     riyadh_region  1673505.016  \n",
       "73  riyadh     riyadh_region  4248923.765  \n",
       "74  jeddah     makkah_region  3774559.615  \n",
       "\n",
       "[75 rows x 124 columns]>"
      ]
     },
     "execution_count": 67,
     "metadata": {},
     "output_type": "execute_result"
    }
   ],
   "source": [
    "df.head"
   ]
  },
  {
   "cell_type": "markdown",
   "id": "43e537b9",
   "metadata": {},
   "source": [
    "Deleted the row with low number of occurence"
   ]
  },
  {
   "cell_type": "code",
   "execution_count": 68,
   "id": "0b372a7c",
   "metadata": {},
   "outputs": [
    {
     "data": {
      "text/plain": [
       "array(['other', 'jeddah', 'riyadh'], dtype=object)"
      ]
     },
     "execution_count": 68,
     "metadata": {},
     "output_type": "execute_result"
    }
   ],
   "source": [
    "df['city'].unique()"
   ]
  },
  {
   "cell_type": "code",
   "execution_count": 69,
   "id": "5abadcc4",
   "metadata": {},
   "outputs": [
    {
     "data": {
      "text/plain": [
       "array(['eastern_province', 'makkah_region', 'riyadh_region'], dtype=object)"
      ]
     },
     "execution_count": 69,
     "metadata": {},
     "output_type": "execute_result"
    }
   ],
   "source": [
    "df['region'].unique()"
   ]
  },
  {
   "cell_type": "code",
   "execution_count": 70,
   "id": "e7e90385",
   "metadata": {},
   "outputs": [
    {
     "data": {
      "text/plain": [
       "concept_type\n",
       "FSDT    34\n",
       "FC      26\n",
       "ILDT    15\n",
       "Name: count, dtype: int64"
      ]
     },
     "execution_count": 70,
     "metadata": {},
     "output_type": "execute_result"
    }
   ],
   "source": [
    "df.value_counts(df['concept_type'])"
   ]
  },
  {
   "cell_type": "code",
   "execution_count": 71,
   "id": "155c0dc1",
   "metadata": {},
   "outputs": [
    {
     "data": {
      "text/plain": [
       "city\n",
       "riyadh    41\n",
       "other     19\n",
       "jeddah    15\n",
       "Name: count, dtype: int64"
      ]
     },
     "execution_count": 71,
     "metadata": {},
     "output_type": "execute_result"
    }
   ],
   "source": [
    "df.value_counts(df['city'])"
   ]
  },
  {
   "cell_type": "code",
   "execution_count": 99,
   "id": "8050aae8",
   "metadata": {},
   "outputs": [],
   "source": [
    "x = df.drop(['target'], axis=1)"
   ]
  },
  {
   "cell_type": "code",
   "execution_count": 100,
   "id": "dce1a24d",
   "metadata": {},
   "outputs": [],
   "source": [
    "y = df['target']"
   ]
  },
  {
   "cell_type": "code",
   "execution_count": 101,
   "id": "00046fe4",
   "metadata": {},
   "outputs": [
    {
     "data": {
      "text/html": [
       "<div>\n",
       "<style scoped>\n",
       "    .dataframe tbody tr th:only-of-type {\n",
       "        vertical-align: middle;\n",
       "    }\n",
       "\n",
       "    .dataframe tbody tr th {\n",
       "        vertical-align: top;\n",
       "    }\n",
       "\n",
       "    .dataframe thead th {\n",
       "        text-align: right;\n",
       "    }\n",
       "</style>\n",
       "<table border=\"1\" class=\"dataframe\">\n",
       "  <thead>\n",
       "    <tr style=\"text-align: right;\">\n",
       "      <th></th>\n",
       "      <th>day_count_0_25</th>\n",
       "      <th>day_count_0_5</th>\n",
       "      <th>day_count_0_75</th>\n",
       "      <th>day_count_1_0</th>\n",
       "      <th>day_count_2_0</th>\n",
       "      <th>day_count_3_0</th>\n",
       "      <th>day_count_4_0</th>\n",
       "      <th>pop_count_0_25</th>\n",
       "      <th>pop_count_0_5</th>\n",
       "      <th>pop_count_0_75</th>\n",
       "      <th>...</th>\n",
       "      <th>restaurant_0_5</th>\n",
       "      <th>restaurant_0_75</th>\n",
       "      <th>restaurant_1_0</th>\n",
       "      <th>restaurant_2_0</th>\n",
       "      <th>restaurant_3_0</th>\n",
       "      <th>restaurant_4_0</th>\n",
       "      <th>size</th>\n",
       "      <th>concept_type</th>\n",
       "      <th>city</th>\n",
       "      <th>region</th>\n",
       "    </tr>\n",
       "  </thead>\n",
       "  <tbody>\n",
       "    <tr>\n",
       "      <th>0</th>\n",
       "      <td>682</td>\n",
       "      <td>2464</td>\n",
       "      <td>4089</td>\n",
       "      <td>7273</td>\n",
       "      <td>26611</td>\n",
       "      <td>42798</td>\n",
       "      <td>59421</td>\n",
       "      <td>682</td>\n",
       "      <td>2507</td>\n",
       "      <td>4093</td>\n",
       "      <td>...</td>\n",
       "      <td>0</td>\n",
       "      <td>0</td>\n",
       "      <td>1</td>\n",
       "      <td>3</td>\n",
       "      <td>13</td>\n",
       "      <td>14</td>\n",
       "      <td>129.5000</td>\n",
       "      <td>ILDT</td>\n",
       "      <td>other</td>\n",
       "      <td>eastern_province</td>\n",
       "    </tr>\n",
       "    <tr>\n",
       "      <th>1</th>\n",
       "      <td>754</td>\n",
       "      <td>2155</td>\n",
       "      <td>4225</td>\n",
       "      <td>6657</td>\n",
       "      <td>25903</td>\n",
       "      <td>56247</td>\n",
       "      <td>109079</td>\n",
       "      <td>798</td>\n",
       "      <td>2225</td>\n",
       "      <td>4436</td>\n",
       "      <td>...</td>\n",
       "      <td>2</td>\n",
       "      <td>2</td>\n",
       "      <td>2</td>\n",
       "      <td>2</td>\n",
       "      <td>5</td>\n",
       "      <td>11</td>\n",
       "      <td>113.4000</td>\n",
       "      <td>ILDT</td>\n",
       "      <td>jeddah</td>\n",
       "      <td>makkah_region</td>\n",
       "    </tr>\n",
       "    <tr>\n",
       "      <th>2</th>\n",
       "      <td>1945</td>\n",
       "      <td>4185</td>\n",
       "      <td>7516</td>\n",
       "      <td>17092</td>\n",
       "      <td>78080</td>\n",
       "      <td>148992</td>\n",
       "      <td>267023</td>\n",
       "      <td>2089</td>\n",
       "      <td>4479</td>\n",
       "      <td>8152</td>\n",
       "      <td>...</td>\n",
       "      <td>3</td>\n",
       "      <td>3</td>\n",
       "      <td>3</td>\n",
       "      <td>4</td>\n",
       "      <td>11</td>\n",
       "      <td>24</td>\n",
       "      <td>71.2236</td>\n",
       "      <td>FC</td>\n",
       "      <td>riyadh</td>\n",
       "      <td>riyadh_region</td>\n",
       "    </tr>\n",
       "    <tr>\n",
       "      <th>3</th>\n",
       "      <td>977</td>\n",
       "      <td>1400</td>\n",
       "      <td>1879</td>\n",
       "      <td>2260</td>\n",
       "      <td>5756</td>\n",
       "      <td>18850</td>\n",
       "      <td>39565</td>\n",
       "      <td>490</td>\n",
       "      <td>805</td>\n",
       "      <td>1315</td>\n",
       "      <td>...</td>\n",
       "      <td>2</td>\n",
       "      <td>2</td>\n",
       "      <td>2</td>\n",
       "      <td>2</td>\n",
       "      <td>3</td>\n",
       "      <td>5</td>\n",
       "      <td>47.3280</td>\n",
       "      <td>FC</td>\n",
       "      <td>jeddah</td>\n",
       "      <td>makkah_region</td>\n",
       "    </tr>\n",
       "    <tr>\n",
       "      <th>4</th>\n",
       "      <td>33</td>\n",
       "      <td>47</td>\n",
       "      <td>68</td>\n",
       "      <td>82</td>\n",
       "      <td>414</td>\n",
       "      <td>883</td>\n",
       "      <td>1633</td>\n",
       "      <td>25</td>\n",
       "      <td>40</td>\n",
       "      <td>64</td>\n",
       "      <td>...</td>\n",
       "      <td>3</td>\n",
       "      <td>3</td>\n",
       "      <td>3</td>\n",
       "      <td>3</td>\n",
       "      <td>3</td>\n",
       "      <td>3</td>\n",
       "      <td>107.1600</td>\n",
       "      <td>ILDT</td>\n",
       "      <td>other</td>\n",
       "      <td>eastern_province</td>\n",
       "    </tr>\n",
       "    <tr>\n",
       "      <th>...</th>\n",
       "      <td>...</td>\n",
       "      <td>...</td>\n",
       "      <td>...</td>\n",
       "      <td>...</td>\n",
       "      <td>...</td>\n",
       "      <td>...</td>\n",
       "      <td>...</td>\n",
       "      <td>...</td>\n",
       "      <td>...</td>\n",
       "      <td>...</td>\n",
       "      <td>...</td>\n",
       "      <td>...</td>\n",
       "      <td>...</td>\n",
       "      <td>...</td>\n",
       "      <td>...</td>\n",
       "      <td>...</td>\n",
       "      <td>...</td>\n",
       "      <td>...</td>\n",
       "      <td>...</td>\n",
       "      <td>...</td>\n",
       "      <td>...</td>\n",
       "    </tr>\n",
       "    <tr>\n",
       "      <th>70</th>\n",
       "      <td>200</td>\n",
       "      <td>1149</td>\n",
       "      <td>2023</td>\n",
       "      <td>3027</td>\n",
       "      <td>9300</td>\n",
       "      <td>15683</td>\n",
       "      <td>25853</td>\n",
       "      <td>193</td>\n",
       "      <td>1074</td>\n",
       "      <td>1923</td>\n",
       "      <td>...</td>\n",
       "      <td>0</td>\n",
       "      <td>0</td>\n",
       "      <td>0</td>\n",
       "      <td>0</td>\n",
       "      <td>0</td>\n",
       "      <td>3</td>\n",
       "      <td>623.9233</td>\n",
       "      <td>FSDT</td>\n",
       "      <td>jeddah</td>\n",
       "      <td>makkah_region</td>\n",
       "    </tr>\n",
       "    <tr>\n",
       "      <th>71</th>\n",
       "      <td>410</td>\n",
       "      <td>2488</td>\n",
       "      <td>4303</td>\n",
       "      <td>6711</td>\n",
       "      <td>31467</td>\n",
       "      <td>69899</td>\n",
       "      <td>131833</td>\n",
       "      <td>336</td>\n",
       "      <td>2287</td>\n",
       "      <td>4076</td>\n",
       "      <td>...</td>\n",
       "      <td>0</td>\n",
       "      <td>0</td>\n",
       "      <td>1</td>\n",
       "      <td>5</td>\n",
       "      <td>8</td>\n",
       "      <td>16</td>\n",
       "      <td>46.9040</td>\n",
       "      <td>FC</td>\n",
       "      <td>riyadh</td>\n",
       "      <td>riyadh_region</td>\n",
       "    </tr>\n",
       "    <tr>\n",
       "      <th>72</th>\n",
       "      <td>75</td>\n",
       "      <td>213</td>\n",
       "      <td>259</td>\n",
       "      <td>305</td>\n",
       "      <td>1037</td>\n",
       "      <td>2656</td>\n",
       "      <td>4751</td>\n",
       "      <td>56</td>\n",
       "      <td>192</td>\n",
       "      <td>232</td>\n",
       "      <td>...</td>\n",
       "      <td>0</td>\n",
       "      <td>0</td>\n",
       "      <td>0</td>\n",
       "      <td>0</td>\n",
       "      <td>0</td>\n",
       "      <td>1</td>\n",
       "      <td>98.4000</td>\n",
       "      <td>FC</td>\n",
       "      <td>other</td>\n",
       "      <td>riyadh_region</td>\n",
       "    </tr>\n",
       "    <tr>\n",
       "      <th>73</th>\n",
       "      <td>2521</td>\n",
       "      <td>9010</td>\n",
       "      <td>13679</td>\n",
       "      <td>21983</td>\n",
       "      <td>63807</td>\n",
       "      <td>133657</td>\n",
       "      <td>194202</td>\n",
       "      <td>2649</td>\n",
       "      <td>10296</td>\n",
       "      <td>15131</td>\n",
       "      <td>...</td>\n",
       "      <td>0</td>\n",
       "      <td>0</td>\n",
       "      <td>1</td>\n",
       "      <td>7</td>\n",
       "      <td>11</td>\n",
       "      <td>21</td>\n",
       "      <td>153.0000</td>\n",
       "      <td>ILDT</td>\n",
       "      <td>riyadh</td>\n",
       "      <td>riyadh_region</td>\n",
       "    </tr>\n",
       "    <tr>\n",
       "      <th>74</th>\n",
       "      <td>1005</td>\n",
       "      <td>1860</td>\n",
       "      <td>2656</td>\n",
       "      <td>3506</td>\n",
       "      <td>27794</td>\n",
       "      <td>81403</td>\n",
       "      <td>177378</td>\n",
       "      <td>633</td>\n",
       "      <td>1250</td>\n",
       "      <td>1827</td>\n",
       "      <td>...</td>\n",
       "      <td>5</td>\n",
       "      <td>5</td>\n",
       "      <td>5</td>\n",
       "      <td>6</td>\n",
       "      <td>6</td>\n",
       "      <td>11</td>\n",
       "      <td>45.1000</td>\n",
       "      <td>FC</td>\n",
       "      <td>jeddah</td>\n",
       "      <td>makkah_region</td>\n",
       "    </tr>\n",
       "  </tbody>\n",
       "</table>\n",
       "<p>75 rows × 123 columns</p>\n",
       "</div>"
      ],
      "text/plain": [
       "    day_count_0_25  day_count_0_5  day_count_0_75  day_count_1_0  \\\n",
       "0              682           2464            4089           7273   \n",
       "1              754           2155            4225           6657   \n",
       "2             1945           4185            7516          17092   \n",
       "3              977           1400            1879           2260   \n",
       "4               33             47              68             82   \n",
       "..             ...            ...             ...            ...   \n",
       "70             200           1149            2023           3027   \n",
       "71             410           2488            4303           6711   \n",
       "72              75            213             259            305   \n",
       "73            2521           9010           13679          21983   \n",
       "74            1005           1860            2656           3506   \n",
       "\n",
       "    day_count_2_0  day_count_3_0  day_count_4_0  pop_count_0_25  \\\n",
       "0           26611          42798          59421             682   \n",
       "1           25903          56247         109079             798   \n",
       "2           78080         148992         267023            2089   \n",
       "3            5756          18850          39565             490   \n",
       "4             414            883           1633              25   \n",
       "..            ...            ...            ...             ...   \n",
       "70           9300          15683          25853             193   \n",
       "71          31467          69899         131833             336   \n",
       "72           1037           2656           4751              56   \n",
       "73          63807         133657         194202            2649   \n",
       "74          27794          81403         177378             633   \n",
       "\n",
       "    pop_count_0_5  pop_count_0_75  ...  restaurant_0_5  restaurant_0_75  \\\n",
       "0            2507            4093  ...               0                0   \n",
       "1            2225            4436  ...               2                2   \n",
       "2            4479            8152  ...               3                3   \n",
       "3             805            1315  ...               2                2   \n",
       "4              40              64  ...               3                3   \n",
       "..            ...             ...  ...             ...              ...   \n",
       "70           1074            1923  ...               0                0   \n",
       "71           2287            4076  ...               0                0   \n",
       "72            192             232  ...               0                0   \n",
       "73          10296           15131  ...               0                0   \n",
       "74           1250            1827  ...               5                5   \n",
       "\n",
       "    restaurant_1_0  restaurant_2_0  restaurant_3_0  restaurant_4_0      size  \\\n",
       "0                1               3              13              14  129.5000   \n",
       "1                2               2               5              11  113.4000   \n",
       "2                3               4              11              24   71.2236   \n",
       "3                2               2               3               5   47.3280   \n",
       "4                3               3               3               3  107.1600   \n",
       "..             ...             ...             ...             ...       ...   \n",
       "70               0               0               0               3  623.9233   \n",
       "71               1               5               8              16   46.9040   \n",
       "72               0               0               0               1   98.4000   \n",
       "73               1               7              11              21  153.0000   \n",
       "74               5               6               6              11   45.1000   \n",
       "\n",
       "    concept_type    city            region  \n",
       "0           ILDT   other  eastern_province  \n",
       "1           ILDT  jeddah     makkah_region  \n",
       "2             FC  riyadh     riyadh_region  \n",
       "3             FC  jeddah     makkah_region  \n",
       "4           ILDT   other  eastern_province  \n",
       "..           ...     ...               ...  \n",
       "70          FSDT  jeddah     makkah_region  \n",
       "71            FC  riyadh     riyadh_region  \n",
       "72            FC   other     riyadh_region  \n",
       "73          ILDT  riyadh     riyadh_region  \n",
       "74            FC  jeddah     makkah_region  \n",
       "\n",
       "[75 rows x 123 columns]"
      ]
     },
     "execution_count": 101,
     "metadata": {},
     "output_type": "execute_result"
    }
   ],
   "source": [
    "x"
   ]
  },
  {
   "cell_type": "code",
   "execution_count": 102,
   "id": "2fa1a4df",
   "metadata": {},
   "outputs": [
    {
     "data": {
      "text/plain": [
       "0     3683833.046\n",
       "1     3500566.183\n",
       "2     1680120.334\n",
       "3     3671408.579\n",
       "4     1720838.617\n",
       "         ...     \n",
       "70    8665245.647\n",
       "71    1749022.339\n",
       "72    1673505.016\n",
       "73    4248923.765\n",
       "74    3774559.615\n",
       "Name: target, Length: 75, dtype: float64"
      ]
     },
     "execution_count": 102,
     "metadata": {},
     "output_type": "execute_result"
    }
   ],
   "source": [
    "y"
   ]
  },
  {
   "cell_type": "markdown",
   "id": "edc7a23c",
   "metadata": {},
   "source": [
    "## Data preparation"
   ]
  },
  {
   "cell_type": "code",
   "execution_count": 103,
   "id": "3fb2f1f9",
   "metadata": {},
   "outputs": [],
   "source": [
    "from sklearn.model_selection import train_test_split\n",
    "x_train, x_test, y_train, y_test = train_test_split(df.drop(columns=['target']), df['target'])"
   ]
  },
  {
   "cell_type": "markdown",
   "id": "753ba15f",
   "metadata": {},
   "source": [
    "## One hot encoding"
   ]
  },
  {
   "cell_type": "markdown",
   "id": "0b79db56",
   "metadata": {},
   "source": [
    "concept_type, city, region"
   ]
  },
  {
   "cell_type": "code",
   "execution_count": 107,
   "id": "f67d5a5b",
   "metadata": {},
   "outputs": [],
   "source": [
    "ohe = OneHotEncoder(drop='first', sparse= False)"
   ]
  },
  {
   "cell_type": "code",
   "execution_count": 110,
   "id": "a1f7235e",
   "metadata": {},
   "outputs": [
    {
     "name": "stderr",
     "output_type": "stream",
     "text": [
      "C:\\ProgramData\\anaconda3\\Lib\\site-packages\\sklearn\\preprocessing\\_encoders.py:972: FutureWarning: `sparse` was renamed to `sparse_output` in version 1.2 and will be removed in 1.4. `sparse_output` is ignored unless you leave `sparse` to its default value.\n",
      "  warnings.warn(\n"
     ]
    }
   ],
   "source": [
    "x_train_a = ohe.fit_transform(x_train[['concept_type','city','region']])"
   ]
  },
  {
   "cell_type": "code",
   "execution_count": 111,
   "id": "89aa0256",
   "metadata": {},
   "outputs": [
    {
     "name": "stderr",
     "output_type": "stream",
     "text": [
      "C:\\ProgramData\\anaconda3\\Lib\\site-packages\\sklearn\\preprocessing\\_encoders.py:972: FutureWarning: `sparse` was renamed to `sparse_output` in version 1.2 and will be removed in 1.4. `sparse_output` is ignored unless you leave `sparse` to its default value.\n",
      "  warnings.warn(\n"
     ]
    }
   ],
   "source": [
    "x_test_a = ohe.fit_transform(x_test[['concept_type','city','region']])"
   ]
  },
  {
   "cell_type": "code",
   "execution_count": 114,
   "id": "d455ee79",
   "metadata": {},
   "outputs": [],
   "source": [
    "x_train_b = x_train.drop(columns=['concept_type','city','region']).values\n",
    "x_test_b = x_test.drop(columns=['concept_type','city','region']).values"
   ]
  },
  {
   "cell_type": "code",
   "execution_count": 119,
   "id": "e331c122",
   "metadata": {},
   "outputs": [],
   "source": [
    "x_train_transformed = np.concatenate((x_train_a,x_train_b), axis=1)\n",
    "x_test_transformed = np.concatenate((x_test_a,x_test_b), axis=1)"
   ]
  },
  {
   "cell_type": "code",
   "execution_count": 120,
   "id": "422ca34e",
   "metadata": {},
   "outputs": [
    {
     "data": {
      "text/plain": [
       "array([[  0.  ,   0.  ,   0.  , ...,   9.  ,  19.  ,  72.6 ],\n",
       "       [  1.  ,   0.  ,   0.  , ...,   5.  ,   8.  , 636.32],\n",
       "       [  1.  ,   0.  ,   0.  , ...,   5.  ,   6.  , 327.  ],\n",
       "       ...,\n",
       "       [  0.  ,   1.  ,   0.  , ...,  11.  ,  21.  , 153.  ],\n",
       "       [  0.  ,   1.  ,   1.  , ...,   0.  ,   0.  , 192.5 ],\n",
       "       [  0.  ,   0.  ,   0.  , ...,  11.  ,  18.  ,  84.  ]])"
      ]
     },
     "execution_count": 120,
     "metadata": {},
     "output_type": "execute_result"
    }
   ],
   "source": [
    "x_train_transformed"
   ]
  },
  {
   "cell_type": "markdown",
   "id": "ff87979f",
   "metadata": {},
   "source": [
    "## Model building"
   ]
  },
  {
   "cell_type": "code",
   "execution_count": 123,
   "id": "98e1e7e9",
   "metadata": {},
   "outputs": [
    {
     "data": {
      "text/html": [
       "<style>#sk-container-id-2 {color: black;}#sk-container-id-2 pre{padding: 0;}#sk-container-id-2 div.sk-toggleable {background-color: white;}#sk-container-id-2 label.sk-toggleable__label {cursor: pointer;display: block;width: 100%;margin-bottom: 0;padding: 0.3em;box-sizing: border-box;text-align: center;}#sk-container-id-2 label.sk-toggleable__label-arrow:before {content: \"▸\";float: left;margin-right: 0.25em;color: #696969;}#sk-container-id-2 label.sk-toggleable__label-arrow:hover:before {color: black;}#sk-container-id-2 div.sk-estimator:hover label.sk-toggleable__label-arrow:before {color: black;}#sk-container-id-2 div.sk-toggleable__content {max-height: 0;max-width: 0;overflow: hidden;text-align: left;background-color: #f0f8ff;}#sk-container-id-2 div.sk-toggleable__content pre {margin: 0.2em;color: black;border-radius: 0.25em;background-color: #f0f8ff;}#sk-container-id-2 input.sk-toggleable__control:checked~div.sk-toggleable__content {max-height: 200px;max-width: 100%;overflow: auto;}#sk-container-id-2 input.sk-toggleable__control:checked~label.sk-toggleable__label-arrow:before {content: \"▾\";}#sk-container-id-2 div.sk-estimator input.sk-toggleable__control:checked~label.sk-toggleable__label {background-color: #d4ebff;}#sk-container-id-2 div.sk-label input.sk-toggleable__control:checked~label.sk-toggleable__label {background-color: #d4ebff;}#sk-container-id-2 input.sk-hidden--visually {border: 0;clip: rect(1px 1px 1px 1px);clip: rect(1px, 1px, 1px, 1px);height: 1px;margin: -1px;overflow: hidden;padding: 0;position: absolute;width: 1px;}#sk-container-id-2 div.sk-estimator {font-family: monospace;background-color: #f0f8ff;border: 1px dotted black;border-radius: 0.25em;box-sizing: border-box;margin-bottom: 0.5em;}#sk-container-id-2 div.sk-estimator:hover {background-color: #d4ebff;}#sk-container-id-2 div.sk-parallel-item::after {content: \"\";width: 100%;border-bottom: 1px solid gray;flex-grow: 1;}#sk-container-id-2 div.sk-label:hover label.sk-toggleable__label {background-color: #d4ebff;}#sk-container-id-2 div.sk-serial::before {content: \"\";position: absolute;border-left: 1px solid gray;box-sizing: border-box;top: 0;bottom: 0;left: 50%;z-index: 0;}#sk-container-id-2 div.sk-serial {display: flex;flex-direction: column;align-items: center;background-color: white;padding-right: 0.2em;padding-left: 0.2em;position: relative;}#sk-container-id-2 div.sk-item {position: relative;z-index: 1;}#sk-container-id-2 div.sk-parallel {display: flex;align-items: stretch;justify-content: center;background-color: white;position: relative;}#sk-container-id-2 div.sk-item::before, #sk-container-id-2 div.sk-parallel-item::before {content: \"\";position: absolute;border-left: 1px solid gray;box-sizing: border-box;top: 0;bottom: 0;left: 50%;z-index: -1;}#sk-container-id-2 div.sk-parallel-item {display: flex;flex-direction: column;z-index: 1;position: relative;background-color: white;}#sk-container-id-2 div.sk-parallel-item:first-child::after {align-self: flex-end;width: 50%;}#sk-container-id-2 div.sk-parallel-item:last-child::after {align-self: flex-start;width: 50%;}#sk-container-id-2 div.sk-parallel-item:only-child::after {width: 0;}#sk-container-id-2 div.sk-dashed-wrapped {border: 1px dashed gray;margin: 0 0.4em 0.5em 0.4em;box-sizing: border-box;padding-bottom: 0.4em;background-color: white;}#sk-container-id-2 div.sk-label label {font-family: monospace;font-weight: bold;display: inline-block;line-height: 1.2em;}#sk-container-id-2 div.sk-label-container {text-align: center;}#sk-container-id-2 div.sk-container {/* jupyter's `normalize.less` sets `[hidden] { display: none; }` but bootstrap.min.css set `[hidden] { display: none !important; }` so we also need the `!important` here to be able to override the default hidden behavior on the sphinx rendered scikit-learn.org. See: https://github.com/scikit-learn/scikit-learn/issues/21755 */display: inline-block !important;position: relative;}#sk-container-id-2 div.sk-text-repr-fallback {display: none;}</style><div id=\"sk-container-id-2\" class=\"sk-top-container\"><div class=\"sk-text-repr-fallback\"><pre>LinearRegression()</pre><b>In a Jupyter environment, please rerun this cell to show the HTML representation or trust the notebook. <br />On GitHub, the HTML representation is unable to render, please try loading this page with nbviewer.org.</b></div><div class=\"sk-container\" hidden><div class=\"sk-item\"><div class=\"sk-estimator sk-toggleable\"><input class=\"sk-toggleable__control sk-hidden--visually\" id=\"sk-estimator-id-2\" type=\"checkbox\" checked><label for=\"sk-estimator-id-2\" class=\"sk-toggleable__label sk-toggleable__label-arrow\">LinearRegression</label><div class=\"sk-toggleable__content\"><pre>LinearRegression()</pre></div></div></div></div></div>"
      ],
      "text/plain": [
       "LinearRegression()"
      ]
     },
     "execution_count": 123,
     "metadata": {},
     "output_type": "execute_result"
    }
   ],
   "source": [
    "from sklearn.linear_model import LinearRegression\n",
    "\n",
    "lr = LinearRegression()\n",
    "lr.fit(x_train_transformed,y_train)"
   ]
  },
  {
   "cell_type": "code",
   "execution_count": 124,
   "id": "e360d629",
   "metadata": {},
   "outputs": [],
   "source": [
    "y_lr_train_pred = lr.predict(x_train_transformed)"
   ]
  },
  {
   "cell_type": "code",
   "execution_count": 125,
   "id": "0f0859d4",
   "metadata": {},
   "outputs": [],
   "source": [
    "y_lr_test_pred = lr.predict(x_test_transformed)"
   ]
  },
  {
   "cell_type": "markdown",
   "id": "6f1a2e02",
   "metadata": {},
   "source": [
    "## Evaluate model performance"
   ]
  },
  {
   "cell_type": "code",
   "execution_count": 129,
   "id": "445fa62e",
   "metadata": {},
   "outputs": [],
   "source": [
    "from sklearn.metrics import mean_squared_error, r2_score\n",
    "\n",
    "lr_train_mse = mean_squared_error(y_train, y_lr_train_pred)\n",
    "lr_train_r2 = r2_score(y_train, y_lr_train_pred)\n",
    "\n",
    "lr_test_mse = mean_squared_error(y_test, y_lr_test_pred)\n",
    "lr_test_r2 = r2_score(y_test, y_lr_test_pred)"
   ]
  },
  {
   "cell_type": "code",
   "execution_count": 130,
   "id": "fd9dd148",
   "metadata": {},
   "outputs": [
    {
     "name": "stdout",
     "output_type": "stream",
     "text": [
      "LR Train MSE:  2.621910454457484e-08\n",
      "LR Train R2:  1.0\n",
      "LR Test MSE:  399507329629445.8\n",
      "LR Test R2:  -30.15732710128342\n"
     ]
    }
   ],
   "source": [
    "print(\"LR Train MSE: \",lr_train_mse)\n",
    "print(\"LR Train R2: \",lr_train_r2)\n",
    "print(\"LR Test MSE: \",lr_test_mse)\n",
    "print(\"LR Test R2: \",lr_test_r2)"
   ]
  },
  {
   "cell_type": "code",
   "execution_count": null,
   "id": "1414e221",
   "metadata": {},
   "outputs": [],
   "source": []
  }
 ],
 "metadata": {
  "kernelspec": {
   "display_name": "Python 3 (ipykernel)",
   "language": "python",
   "name": "python3"
  },
  "language_info": {
   "codemirror_mode": {
    "name": "ipython",
    "version": 3
   },
   "file_extension": ".py",
   "mimetype": "text/x-python",
   "name": "python",
   "nbconvert_exporter": "python",
   "pygments_lexer": "ipython3",
   "version": "3.11.5"
  }
 },
 "nbformat": 4,
 "nbformat_minor": 5
}
